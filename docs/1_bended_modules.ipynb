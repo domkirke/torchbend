{
 "cells": [
  {
   "cell_type": "markdown",
   "metadata": {},
   "source": [
    "# Bended modules \n",
    "\n",
    "At the very base of the `torchbend` modules lies the `BendedModule`, a wrapper for `torch.nn.Module` that uses the `torchbend` improved tracer to provide a handy interface for weight bending, interpolation, and activation retrieval / and bending. "
   ]
  },
  {
   "cell_type": "markdown",
   "metadata": {},
   "source": [
    "## Dissecting weights and activations.\n",
    "\n",
    "Let's see how to bend this simple module : "
   ]
  },
  {
   "cell_type": "code",
   "execution_count": 1,
   "metadata": {},
   "outputs": [],
   "source": [
    "import sys; sys.path.append(\"..\")\n",
    "import torch, torch.nn as nn\n",
    "import torchbend as tb\n",
    "\n",
    "class Stanley(nn.Module):\n",
    "    def __init__(self, n_channels = 4):\n",
    "        super().__init__()\n",
    "        self.conv_modules = nn.Sequential(\n",
    "            nn.Conv1d(1, n_channels, 3), \n",
    "            nn.Conv1d(n_channels, 8, 3)\n",
    "        )\n",
    "        self.batch_norm = nn.BatchNorm1d(8)\n",
    "        self.nnlin = nn.Sigmoid()\n",
    "        self.n_channels = n_channels\n",
    "    \n",
    "    def forward(self, x):\n",
    "        out = self.conv_modules(x)\n",
    "        out = self.batch_norm(out)\n",
    "        out = self.nnlin(out)\n",
    "        return out\n",
    "\n",
    "    def forward_nobatch(self, x):\n",
    "        out = self.conv_modules(x)\n",
    "        out = self.nnlin(out)\n",
    "        return out\n",
    "\n",
    "\n",
    "# instantiate \n",
    "module = Stanley()\n",
    "\n",
    "# wrap with Bended Module\n",
    "bended = tb.BendedModule(module)"
   ]
  },
  {
   "cell_type": "markdown",
   "metadata": {},
   "source": [
    "`BendedModule` is one the main object of the `torchbend` library, that takes a `nn.Module` instance as its only argument. Before bending, let's analyse the weights our `Stanley` instance through the `BendedModule` wrapper : "
   ]
  },
  {
   "cell_type": "code",
   "execution_count": 2,
   "metadata": {},
   "outputs": [
    {
     "name": "stdout",
     "output_type": "stream",
     "text": [
      "name                   shape                  dtype                min       max        mean    stddev\n",
      "---------------------  ---------------------  -------------  ---------  --------  ----------  --------\n",
      "conv_modules.0.weight  torch.Size([4, 1, 3])  torch.float32  -0.559954  0.556316  -0.0255307  0.419845\n",
      "conv_modules.0.bias    torch.Size([4])        torch.float32  -0.494098  0.198989  -0.205164   0.295155\n",
      "conv_modules.1.weight  torch.Size([8, 4, 3])  torch.float32  -0.280479  0.288643   0.0239942  0.178577\n",
      "conv_modules.1.bias    torch.Size([8])        torch.float32  -0.270739  0.201991   0.0252256  0.177944\n",
      "batch_norm.weight      torch.Size([8])        torch.float32   1         1          1          0\n",
      "batch_norm.bias        torch.Size([8])        torch.float32   0         0          0          0\n"
     ]
    }
   ],
   "source": [
    "weight_names = bended.weight_names\n",
    "weight_shapes = list(map(bended.weight_shape, weight_names))\n",
    "\n",
    "# print_weights also print weight information in a tabular way. \n",
    "# The out keyword may be used to export information as a .txt file\n",
    "bended.print_weights();"
   ]
  },
  {
   "cell_type": "markdown",
   "metadata": {},
   "source": [
    "Perfect, we have all the information we need for Stanley's weights. To retrieve activations, target methods needs to be traced first ; this can be done with the `trace` callback, that requires a given set of inputs for the function."
   ]
  },
  {
   "cell_type": "code",
   "execution_count": 3,
   "metadata": {},
   "outputs": [
    {
     "name": "stdout",
     "output_type": "stream",
     "text": [
      "forward method : \n",
      "--------------  -----------  -----------------------\n",
      "x               placeholder  torch.Size([4, 1, 128])\n",
      "conv_modules_0  call_module  torch.Size([4, 4, 126])\n",
      "conv_modules_1  call_module  torch.Size([4, 8, 124])\n",
      "batch_norm      call_module  torch.Size([4, 8, 124])\n",
      "nnlin           call_module  torch.Size([4, 8, 124])\n",
      "--------------  -----------  -----------------------\n",
      "forward_nobatch method : \n",
      "--------------  -----------  -----------------------\n",
      "x               placeholder  torch.Size([4, 1, 128])\n",
      "conv_modules_0  call_module  torch.Size([4, 4, 126])\n",
      "conv_modules_1  call_module  torch.Size([4, 8, 124])\n",
      "nnlin           call_module  torch.Size([4, 8, 124])\n",
      "--------------  -----------  -----------------------\n"
     ]
    }
   ],
   "source": [
    "# by default, trace traces the forward callback.\n",
    "x = torch.zeros(4, 1, 128)\n",
    "bended.trace(x=x)\n",
    "activation_names = bended.activation_names()\n",
    "activation_shapes = list(map(bended.activation_shape, activation_names))\n",
    "print('forward method : ')\n",
    "bended.print_activations();\n",
    "\n",
    "# as activations are callback dependent, method name may be\n",
    "# given to specify the target : \n",
    "from functools import partial\n",
    "\n",
    "fn = \"forward_nobatch\"\n",
    "bended.trace(fn, x=x)\n",
    "activation_names = bended.activation_names(fn)\n",
    "activation_shapes = list(map(partial(bended.activation_shape, fn=fn), activation_names))\n",
    "print(f'{fn} method : ')\n",
    "bended.print_activations(fn);\n"
   ]
  },
  {
   "cell_type": "markdown",
   "metadata": {},
   "source": [
    "By tracing a given method, `BendedModule` actually decomposes the method as a [torch.fx.Graph](https://pytorch.org/docs/stable/fx.html#torch.fx.Graph), tracking all the operations applied to a given set of inputs. The graph of a function is detached from the value of the module's parameters, such as the union of a graph and a state dict is called a [torch.fx.GraphModule](https://pytorch.org/docs/stable/fx.html#torch.fx.GraphModule). Both can be retrieved directly from `BendedModule` : "
   ]
  },
  {
   "cell_type": "code",
   "execution_count": 4,
   "metadata": {},
   "outputs": [
    {
     "name": "stdout",
     "output_type": "stream",
     "text": [
      "Graph : \n",
      "opcode       name            target          args               kwargs\n",
      "-----------  --------------  --------------  -----------------  --------\n",
      "placeholder  x               x               ()                 {}\n",
      "call_module  conv_modules_0  conv_modules.0  (x,)               {}\n",
      "call_module  conv_modules_1  conv_modules.1  (conv_modules_0,)  {}\n",
      "call_module  batch_norm      batch_norm      (conv_modules_1,)  {}\n",
      "call_module  nnlin           nnlin           (batch_norm,)      {}\n",
      "output       output          output          (nnlin,)           {}\n",
      "\n",
      "Graph : \n",
      "opcode       name            target          args               kwargs\n",
      "-----------  --------------  --------------  -----------------  --------\n",
      "placeholder  x               x               ()                 {}\n",
      "call_module  conv_modules_0  conv_modules.0  (x,)               {}\n",
      "call_module  conv_modules_1  conv_modules.1  (conv_modules_0,)  {}\n",
      "call_module  nnlin           nnlin           (conv_modules_1,)  {}\n",
      "output       output          output          (nnlin,)           {}\n"
     ]
    }
   ],
   "source": [
    "fn = \"forward\"\n",
    "graph = bended.graph(fn)\n",
    "print('Graph : ')\n",
    "graph.print_tabular()\n",
    "fn = \"forward_nobatch\"\n",
    "graph_module = bended.graph_module(fn)\n",
    "print('\\nGraph : ')\n",
    "graph_module.graph.print_tabular()\n"
   ]
  },
  {
   "cell_type": "markdown",
   "metadata": {},
   "source": [
    "Specific activations can be retrieved as a `dict` object using the `get_activations` method : "
   ]
  },
  {
   "cell_type": "code",
   "execution_count": 5,
   "metadata": {},
   "outputs": [
    {
     "name": "stdout",
     "output_type": "stream",
     "text": [
      "{'conv_modules_0': torch.Size([4, 4, 126]), 'nnlin': torch.Size([4, 8, 124])}\n"
     ]
    }
   ],
   "source": [
    "outs = bended.get_activations(\"conv_modules_0\", \"nnlin\",  x=x, fn=\"forward\")\n",
    "print({k: v.shape for k, v in outs.items()})"
   ]
  },
  {
   "cell_type": "markdown",
   "metadata": {},
   "source": [
    "## Bending\n",
    "\n",
    "Here we will see how to bend specific weights and activations. We will here use the `tb.Mask` bending operation, that masks the target feature using a binary mask. Bending operations does not touch the original module and are not made in place, such that every bending operation can be reverted using the `reset` method."
   ]
  },
  {
   "cell_type": "code",
   "execution_count": 6,
   "metadata": {},
   "outputs": [
    {
     "name": "stdout",
     "output_type": "stream",
     "text": [
      "bended keys : ['conv_modules.0.weight', 'conv_modules.1.weight', 'nnlin']\n",
      "original == bended : tensor(False)\n",
      "original param == bended param : tensor(True)\n",
      "original == reverted : tensor(True)\n"
     ]
    },
    {
     "name": "stderr",
     "output_type": "stream",
     "text": [
      "<>:5: SyntaxWarning: invalid escape sequence '\\d'\n",
      "<>:5: SyntaxWarning: invalid escape sequence '\\d'\n",
      "/var/folders/vk/nn1706pd25b57gxz9y3p1wqh0000gn/T/ipykernel_31748/1651323377.py:5: SyntaxWarning: invalid escape sequence '\\d'\n",
      "  bended.bend(cb, \"conv_modules.\\d.weight\", \"nnlin\")\n"
     ]
    }
   ],
   "source": [
    "out = bended.forward(x)\n",
    "\n",
    "cb = tb.Mask(prob=0.4)\n",
    "# Bending keys are given as regexp, allowing to target several keys at the same time!\n",
    "bended.bend(cb, \"conv_modules.\\d.weight\", \"nnlin\")\n",
    "print(\"bended keys :\", bended.bended_keys())\n",
    "\n",
    "out_bended = bended.forward(x)\n",
    "print(\"original == bended :\", (out == out_bended).all())\n",
    "print(\"original param == bended param :\", (module.conv_modules[0].weight == bended.module.conv_modules[0].weight).all())\n",
    "\n",
    "# revert bending\n",
    "bended.reset()\n",
    "out_reverted = bended.forward(x)\n",
    "print(\"original == reverted :\", (out == out_reverted).all())"
   ]
  },
  {
   "cell_type": "markdown",
   "metadata": {},
   "source": [
    "Ok, the module has been correctly bended! Let's see in details how `BendingModule` bends the original module. The process can be summarized as follows : \n",
    "\n",
    "\n",
    "![bending process](img/bending.png \"Bending process\")\n",
    "\n",
    "Let's now compare item by item the effect of the bending process using several inner methods of `BendingModule` : "
   ]
  },
  {
   "cell_type": "code",
   "execution_count": 7,
   "metadata": {},
   "outputs": [
    {
     "name": "stdout",
     "output_type": "stream",
     "text": [
      "-- original state dict :\n",
      " tensor([[[-0.0460,  0.1630, -0.5586]],\n",
      "\n",
      "        [[ 0.4583,  0.3722, -0.3654]],\n",
      "\n",
      "        [[-0.1466, -0.5600,  0.5563]],\n",
      "\n",
      "        [[-0.1443,  0.4609, -0.4962]]])\n",
      "-- bended state dict: \n",
      " tensor([[[-0.0460,  0.0000, -0.5586]],\n",
      "\n",
      "        [[ 0.0000,  0.0000, -0.0000]],\n",
      "\n",
      "        [[-0.1466, -0.0000,  0.0000]],\n",
      "\n",
      "        [[-0.0000,  0.4609, -0.0000]]])\n",
      "-- original graph :\n",
      " graph():\n",
      "    %x : [num_users=1] = placeholder[target=x]\n",
      "    %conv_modules_0 : [num_users=1] = call_module[target=conv_modules.0](args = (%x,), kwargs = {})\n",
      "    %conv_modules_1 : [num_users=1] = call_module[target=conv_modules.1](args = (%conv_modules_0,), kwargs = {})\n",
      "    %batch_norm : [num_users=1] = call_module[target=batch_norm](args = (%conv_modules_1,), kwargs = {})\n",
      "    %nnlin : [num_users=1] = call_module[target=nnlin](args = (%batch_norm,), kwargs = {})\n",
      "    return nnlin\n",
      "-- bended graph: \n",
      " graph():\n",
      "    %x : [num_users=1] = placeholder[target=x]\n",
      "    %conv_modules_0 : [num_users=1] = call_module[target=conv_modules.0](args = (%x,), kwargs = {})\n",
      "    %conv_modules_1 : [num_users=1] = call_module[target=conv_modules.1](args = (%conv_modules_0,), kwargs = {})\n",
      "    %batch_norm : [num_users=1] = call_module[target=batch_norm](args = (%conv_modules_1,), kwargs = {})\n",
      "    %nnlin : [num_users=1] = call_module[target=nnlin](args = (%batch_norm,), kwargs = {})\n",
      "    %nnlin_bended : [num_users=1] = call_module[target=nnlin_callback](args = (%nnlin,), kwargs = {name: nnlin})\n",
      "    return nnlin_bended\n",
      "torch.Size([4, 8, 124])\n",
      "torch.Size([4, 8, 124])\n",
      "-- original activation :\n",
      " tensor([0.5797, 0.4429, 0.6812, 0.3817, 0.4745, 0.7009, 0.6312, 0.3695, 0.6913,\n",
      "        0.3595, 0.8620, 0.2187, 0.6389, 0.5471, 0.7003, 0.2373, 0.3873, 0.6187,\n",
      "        0.2115, 0.4857, 0.9151, 0.3944, 0.1565, 0.8404, 0.1815, 0.5679, 0.2722,\n",
      "        0.5357, 0.4252, 0.3139, 0.7567, 0.6497, 0.2621, 0.3547, 0.4445, 0.6889,\n",
      "        0.5343, 0.2012, 0.7323, 0.3251, 0.6275, 0.9384, 0.0762, 0.2599, 0.6739,\n",
      "        0.6325, 0.5180, 0.4726, 0.4662, 0.7676, 0.5911, 0.2458, 0.8518, 0.5748,\n",
      "        0.4145, 0.5592, 0.6559, 0.3180, 0.6588, 0.5207, 0.3067, 0.6069, 0.3694,\n",
      "        0.4737, 0.3950, 0.5533, 0.3905, 0.8032, 0.4662, 0.6443, 0.1847, 0.7799,\n",
      "        0.6403, 0.4622, 0.6733, 0.3461, 0.7876, 0.5548, 0.2088, 0.7111, 0.2982,\n",
      "        0.4444, 0.5789, 0.4663, 0.7062, 0.8307, 0.5119, 0.1232, 0.7922, 0.6144,\n",
      "        0.3799, 0.5046, 0.5623, 0.7640, 0.3915, 0.1625, 0.5796, 0.7576, 0.7025,\n",
      "        0.1883, 0.3701, 0.9294, 0.3672, 0.6906, 0.6032, 0.4970, 0.2009, 0.7641,\n",
      "        0.3982, 0.6971, 0.8164, 0.6132, 0.3251, 0.4142, 0.6550, 0.4127, 0.3490,\n",
      "        0.6114, 0.4997, 0.4903, 0.9022, 0.0380, 0.2921, 0.7635],\n",
      "       grad_fn=<SelectBackward0>)\n",
      "-- bended activation: \n",
      " tensor([0.5797, 0.4429, 0.6812, 0.0000, 0.0000, 0.0000, 0.0000, 0.0000, 0.0000,\n",
      "        0.0000, 0.8620, 0.2187, 0.0000, 0.0000, 0.7003, 0.0000, 0.0000, 0.0000,\n",
      "        0.2115, 0.0000, 0.0000, 0.3944, 0.1565, 0.8404, 0.0000, 0.0000, 0.2722,\n",
      "        0.0000, 0.4252, 0.0000, 0.0000, 0.0000, 0.0000, 0.0000, 0.4445, 0.0000,\n",
      "        0.5343, 0.0000, 0.7323, 0.0000, 0.6275, 0.9384, 0.0762, 0.0000, 0.0000,\n",
      "        0.6325, 0.0000, 0.4726, 0.4662, 0.7676, 0.0000, 0.2458, 0.0000, 0.0000,\n",
      "        0.0000, 0.5592, 0.0000, 0.0000, 0.0000, 0.5207, 0.3067, 0.6069, 0.0000,\n",
      "        0.0000, 0.0000, 0.0000, 0.0000, 0.8032, 0.0000, 0.6443, 0.1847, 0.0000,\n",
      "        0.0000, 0.4622, 0.0000, 0.3461, 0.0000, 0.5548, 0.2088, 0.0000, 0.0000,\n",
      "        0.0000, 0.0000, 0.0000, 0.0000, 0.0000, 0.0000, 0.1232, 0.0000, 0.6144,\n",
      "        0.0000, 0.5046, 0.0000, 0.0000, 0.3915, 0.0000, 0.5796, 0.0000, 0.7025,\n",
      "        0.0000, 0.0000, 0.0000, 0.3672, 0.0000, 0.6032, 0.4970, 0.0000, 0.0000,\n",
      "        0.0000, 0.6971, 0.0000, 0.6132, 0.3251, 0.0000, 0.0000, 0.4127, 0.3490,\n",
      "        0.0000, 0.0000, 0.0000, 0.0000, 0.0000, 0.0000, 0.7635],\n",
      "       grad_fn=<SelectBackward0>)\n"
     ]
    }
   ],
   "source": [
    "cb = tb.Mask(prob=0.4)\n",
    "bended.bend(cb, \"conv_modules.0.weight\", \"nnlin\")\n",
    "\n",
    "original_state_dict = bended.state_dict()\n",
    "bended_state_dict = bended.bended_state_dict()\n",
    "\n",
    "print(\"-- original state dict :\\n\", original_state_dict['conv_modules.0.weight'])\n",
    "print(\"-- bended state dict: \\n\", bended_state_dict['conv_modules.0.weight'])\n",
    "\n",
    "original_graph = bended.graph()\n",
    "bended_graph = bended.bend_graph()\n",
    "\n",
    "print(\"-- original graph :\\n\", original_graph)\n",
    "print(\"-- bended graph: \\n\", bended_graph)\n",
    "\n",
    "x = torch.randn(4, 1, 128)\n",
    "original_activation = bended.get_activations(\"nnlin\", x=x, bended=False)\n",
    "bended_activation = bended.get_activations(\"nnlin\", x=x)\n",
    "print(original_activation['nnlin'].shape)\n",
    "print(bended_activation['nnlin'].shape)\n",
    "print(\"-- original activation :\\n\", original_activation['nnlin'][0, 0])\n",
    "print(\"-- bended activation: \\n\", bended_activation['nnlin'][0, 0])"
   ]
  },
  {
   "cell_type": "markdown",
   "metadata": {},
   "source": [
    "### Common issues with activation bending and shapes\n",
    "\n",
    "Let's see now a critical case of activation bending : shape handling. Indeed, let's try to change the shape of the input, and apply our bending operations : "
   ]
  },
  {
   "cell_type": "code",
   "execution_count": 8,
   "metadata": {},
   "outputs": [
    {
     "name": "stdout",
     "output_type": "stream",
     "text": [
      "The size of tensor a (60) must match the size of tensor b (124) at non-singleton dimension 2\n"
     ]
    }
   ],
   "source": [
    "x = torch.randn(1, 1, 64)\n",
    "try: \n",
    "    out = bended.forward(x)\n",
    "except RuntimeError as e:\n",
    "    print(e)"
   ]
  },
  {
   "cell_type": "markdown",
   "metadata": {},
   "source": [
    "This happens because, during tracing, activation `nnlin` has been recorded to have shape `torch.Size([4, 8, 124])`. Hence, the `Mask` callback has been initialiazed with a similar shape, causing a `RuntimeError` during multiplication. To make this bending shape independant on last dimension, we can only mask the channel dimension : "
   ]
  },
  {
   "cell_type": "code",
   "execution_count": 9,
   "metadata": {},
   "outputs": [],
   "source": [
    "bended.reset()\n",
    "bended.bend(tb.Mask(prob=0.3, dim=-2), \"nnlin\")\n",
    "\n",
    "x = torch.randn(1, 1, 64)\n",
    "out = bended.forward(x)"
   ]
  },
  {
   "cell_type": "markdown",
   "metadata": {},
   "source": [
    "Activation bending is indeed allowed by our improved tracer, that records shapes of activations during graph tracing. This extension asks, in exchange, to be precautionary on how you bend the graph to be sure that no improper bending operations are applied during the execution process. For more information of this, jump to the next tutorial!"
   ]
  },
  {
   "cell_type": "markdown",
   "metadata": {},
   "source": [
    "## Monitoring bending operations with `BendingConfig`\n",
    "\n",
    "Bending operations of a `BendingModule` can be objectified using the `BendingConfig` object, that can also be used for bending, pickling, and monitoring bending operations."
   ]
  },
  {
   "cell_type": "code",
   "execution_count": 10,
   "metadata": {},
   "outputs": [
    {
     "name": "stdout",
     "output_type": "stream",
     "text": [
      "BendingConfig(\n",
      "module = Stanley(id = 4821083504)\n",
      "\tMask(prob=0.400): ['conv_modules.0.weight', 'nnlin']\n",
      "\tMask(prob=0.600): ['conv_modules.0.weight', 'conv_modules.1.weight']\n",
      ")\n",
      "bending config :  BendingConfig(\n",
      "module = Stanley(id = 4821083504)\n",
      "\tMask(prob=0.400): ['conv_modules.0.weight', 'nnlin']\n",
      "\tMask(prob=0.600): ['conv_modules.0.weight', 'conv_modules.1.weight']\n",
      ")\n",
      "operations for key conv_modules.0.weight: [Mask(prob=0.400), Mask(prob=0.600)]\n",
      "loaded config :  BendingConfig(\n",
      "module = Stanley(id = 4821083504)\n",
      "\tMask(prob=0.400): ['conv_modules.0.weight', 'nnlin']\n",
      "\tMask(prob=0.600): ['conv_modules.0.weight', 'conv_modules.1.weight']\n",
      ")\n"
     ]
    }
   ],
   "source": [
    "module = Stanley()\n",
    "bended = tb.BendedModule(module)\n",
    "bended.trace(x=torch.randn(1, 1, 1024))\n",
    "\n",
    "bended.bend(tb.Mask(prob=0.4), \"conv_modules.0.weight\", \"nnlin\")\n",
    "bended.bend(tb.Mask(prob=0.6), \"conv_modules.0.weight\", \"conv_modules.1.weight\")\n",
    "\n",
    "bending_config = bended.bending_config();\n",
    "print(\"bending config : \", bending_config)\n",
    "key = \"conv_modules.0.weight\"\n",
    "print(f\"operations for key {key}:\", bending_config.op_from_key(key))\n",
    "\n",
    "bending_config.save('test.tb')\n",
    "bending_config = tb.BendingConfig.load('test.tb', module=bended)\n",
    "print(\"loaded config : \", bending_config)"
   ]
  },
  {
   "cell_type": "markdown",
   "metadata": {},
   "source": [
    "`BendingConfig` may be created out of the blue, or bounded to a given `BendedModule` for automatic key resolution. They can also be added or compared together :"
   ]
  },
  {
   "cell_type": "code",
   "execution_count": 11,
   "metadata": {},
   "outputs": [
    {
     "name": "stdout",
     "output_type": "stream",
     "text": [
      "Before binding : \n",
      "config1 : BendingConfig(\n",
      "\t(Mask(prob=0.800), 'conv_modules.\\\\d.weight')\n",
      "\t(Mask(prob=0.800), 'nnlin')\n",
      ")\n",
      "config2 : BendingConfig(\n",
      "\t(Mask(prob=0.800), 'conv_modules.\\\\d.weight')\n",
      "\t(Mask(prob=0.800), 'nnlin')\n",
      ")\n",
      "True\n",
      "\n",
      "After binding : \n",
      "config1 : BendingConfig(\n",
      "module = Stanley(id = 4821083504)\n",
      "\tMask(prob=0.800): ['conv_modules.0.weight', 'conv_modules.1.weight', 'nnlin']\n",
      ")\n",
      "config2 : BendingConfig(\n",
      "module = Stanley(id = 4821083504)\n",
      "\tMask(prob=0.800): ['conv_modules.0.weight', 'conv_modules.1.weight', 'nnlin']\n",
      ")\n",
      "BendingConfig(\n",
      "module = Stanley(id = 4821083504)\n",
      "\tMask(prob=0.800): ['conv_modules.0.weight', 'conv_modules.1.weight', 'nnlin']\n",
      ")\n",
      "\n",
      "Comparison : \n",
      "True\n"
     ]
    }
   ],
   "source": [
    "cb1 = tb.Mask(0.8)\n",
    "config1 = tb.BendingConfig(\n",
    "    (cb1, r\"conv_modules.\\d.weight\"),\n",
    "    (cb1, r\"nnlin\")\n",
    ")\n",
    "config2 = tb.BendingConfig((cb1, r\"conv_modules.\\d.weight\")) + tb.BendingConfig((cb1, \"nnlin\"))\n",
    "\n",
    "print('Before binding : ')\n",
    "print(\"config1 :\", config1)\n",
    "print(\"config2 :\", config2)\n",
    "print(config1 == config2)\n",
    "\n",
    "config1.bind(bended)\n",
    "config2.bind(bended)\n",
    "\n",
    "print('\\nAfter binding : ')\n",
    "print(\"config1 :\", config1)\n",
    "print(\"config2 :\", config2)\n",
    "\n",
    "bended.reset()\n",
    "bended.bend(config1)\n",
    "module_config = bended.bending_config()\n",
    "print('\\nComparison : ')\n",
    "print(config1 == module_config)"
   ]
  },
  {
   "cell_type": "markdown",
   "metadata": {},
   "source": [
    "## Versions and interpolation\n",
    "\n",
    "`BendedModule` also allows you to create several versions of the original module, and to interpolate between them in a smooth manner. Though, beware that this only works with weight bending as smooth interpolation between graphs does not really make sense! "
   ]
  },
  {
   "cell_type": "code",
   "execution_count": 12,
   "metadata": {},
   "outputs": [
    {
     "name": "stdout",
     "output_type": "stream",
     "text": [
      "default version :  _default\n",
      "current version :  bended\n",
      "current version :  _default\n",
      "original == bended :  tensor(False)\n",
      "original == interpolated :  tensor(False)\n",
      "bended == interpolated :  tensor(False)\n"
     ]
    }
   ],
   "source": [
    "module = Stanley()\n",
    "bended = tb.BendedModule(module)\n",
    "\n",
    "x = torch.randn(1, 1, 128)\n",
    "out_unbended = bended(x)\n",
    "\n",
    "print(\"default version : \", bended.version)\n",
    "bended.bend(tb.Mask(prob=0.3), \"conv_modules.0.weight\")\n",
    "bended.write(\"bended\")\n",
    "print(\"current version : \", bended.version)\n",
    "\n",
    "# revert to default\n",
    "bended.version = None\n",
    "print('current version : ', bended.version)\n",
    "\n",
    "with bended.set_version():\n",
    "    out_original = bended(x)\n",
    "with bended.set_version(\"bended\"):\n",
    "    out_bended = bended(x)\n",
    "\n",
    "# arguments of bended.interpolate has an optional positional argument\n",
    "# for default configuration weight, plus keyword arguments for every additional\n",
    "# config weights. \n",
    "with bended.interpolate(1., bended=1.):\n",
    "    out_interpolated = bended(x)\n",
    "\n",
    "print(\"original == bended : \", (out_original == out_bended).all())\n",
    "print(\"original == interpolated : \", (out_original == out_interpolated).all())\n",
    "print(\"bended == interpolated : \", (out_bended == out_interpolated).all())"
   ]
  },
  {
   "cell_type": "markdown",
   "metadata": {},
   "source": [
    "You can also load another version of the same module, provided that their state dict is the same, and interpolate between them with the `interpolate` context manager."
   ]
  },
  {
   "cell_type": "code",
   "execution_count": 13,
   "metadata": {},
   "outputs": [
    {
     "name": "stdout",
     "output_type": "stream",
     "text": [
      "original == imported :  tensor(False)\n",
      "original == interpolated :  tensor(False)\n",
      "imported == interpolated :  tensor(False)\n",
      "given state dict has different keys ; you can bypass this warning by setting strict=False, at your own risk\n"
     ]
    }
   ],
   "source": [
    "module = Stanley()\n",
    "module2 = Stanley()\n",
    "bended = tb.BendedModule(module)\n",
    "bended.create_version(\"imported\", module2)\n",
    "\n",
    "x = torch.randn(1, 1, 128)\n",
    "with bended.set_version():\n",
    "    out_original = bended(x)\n",
    "with bended.set_version(\"imported\"):\n",
    "    out_imported = bended(x)\n",
    "with bended.interpolate(1., imported=1.):\n",
    "    out_interpolated = bended(x)\n",
    "\n",
    "print(\"original == imported : \", (out_original == out_imported).all())\n",
    "print(\"original == interpolated : \", (out_original == out_interpolated).all())\n",
    "print(\"imported == interpolated : \", (out_imported == out_interpolated).all())\n",
    "\n",
    "class Doppleganger(nn.Module):\n",
    "    pass\n",
    "\n",
    "try: \n",
    "    bended.create_version(\"imported\", Doppleganger())\n",
    "except tb.BendingError as e: \n",
    "    print(e)"
   ]
  }
 ],
 "metadata": {
  "kernelspec": {
   "display_name": "ml2",
   "language": "python",
   "name": "python3"
  },
  "language_info": {
   "codemirror_mode": {
    "name": "ipython",
    "version": 3
   },
   "file_extension": ".py",
   "mimetype": "text/x-python",
   "name": "python",
   "nbconvert_exporter": "python",
   "pygments_lexer": "ipython3",
   "version": "3.12.7"
  }
 },
 "nbformat": 4,
 "nbformat_minor": 2
}
