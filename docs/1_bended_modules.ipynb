{
 "cells": [
  {
   "cell_type": "markdown",
   "metadata": {},
   "source": [
    "# Bended modules \n",
    "\n",
    "At the very base of the `torchbend` modules lies the `BendedModule`, a wrapper for `torch.nn.Module` that uses the `torchbend` improved tracer to provide a handy interface for weight bending, interpolation, and activation retrieval / and bending. "
   ]
  },
  {
   "cell_type": "markdown",
   "metadata": {},
   "source": [
    "## Dissecting weights and activations.\n",
    "\n",
    "Let's see how to bend this simple module : "
   ]
  },
  {
   "cell_type": "code",
   "execution_count": 1,
   "metadata": {},
   "outputs": [],
   "source": [
    "import sys; sys.path.append(\"..\")\n",
    "import torch, torch.nn as nn\n",
    "import torchbend as tb\n",
    "\n",
    "class Stanley(nn.Module):\n",
    "    def __init__(self, n_channels = 4):\n",
    "        super().__init__()\n",
    "        self.conv_modules = nn.Sequential(\n",
    "            nn.Conv1d(1, n_channels, 3), \n",
    "            nn.Conv1d(n_channels, 8, 3)\n",
    "        )\n",
    "        self.batch_norm = nn.BatchNorm1d(8)\n",
    "        self.nnlin = nn.Sigmoid()\n",
    "        self.n_channels = n_channels\n",
    "    \n",
    "    def forward(self, x):\n",
    "        out = self.conv_modules(x)\n",
    "        out = self.batch_norm(out)\n",
    "        out = self.nnlin(out)\n",
    "        return out\n",
    "\n",
    "    def forward_nobatch(self, x):\n",
    "        out = self.conv_modules(x)\n",
    "        out = self.nnlin(out)\n",
    "        return out\n",
    "\n",
    "\n",
    "# instantiate \n",
    "module = Stanley()\n",
    "\n",
    "# wrap with Bended Module\n",
    "bended = tb.BendedModule(module)"
   ]
  },
  {
   "cell_type": "markdown",
   "metadata": {},
   "source": [
    "`BendedModule` is one the main object of the `torchbend` library, that takes a `nn.Module` instance as its only argument. Before bending, let's analyse the weights our `Stanley` instance through the `BendedModule` wrapper : "
   ]
  },
  {
   "cell_type": "code",
   "execution_count": 2,
   "metadata": {},
   "outputs": [
    {
     "name": "stdout",
     "output_type": "stream",
     "text": [
      "name                   shape                  dtype                min       max        mean    stddev\n",
      "---------------------  ---------------------  -------------  ---------  --------  ----------  --------\n",
      "conv_modules.0.weight  torch.Size([4, 1, 3])  torch.float32  -0.320379  0.556905   0.17653    0.296265\n",
      "conv_modules.0.bias    torch.Size([4])        torch.float32  -0.527377  0.530088   0.0369331  0.561641\n",
      "conv_modules.1.weight  torch.Size([8, 4, 3])  torch.float32  -0.277825  0.288154  -0.0127818  0.165427\n",
      "conv_modules.1.bias    torch.Size([8])        torch.float32  -0.198426  0.259111   0.0349824  0.182413\n",
      "batch_norm.weight      torch.Size([8])        torch.float32   1         1          1          0\n",
      "batch_norm.bias        torch.Size([8])        torch.float32   0         0          0          0\n"
     ]
    }
   ],
   "source": [
    "weight_names = bended.weight_names\n",
    "weight_shapes = list(map(bended.weight_shape, weight_names))\n",
    "\n",
    "# print_weights also print weight information in a tabular way. \n",
    "# The out keyword may be used to export information as a .txt file\n",
    "bended.print_weights();"
   ]
  },
  {
   "cell_type": "markdown",
   "metadata": {},
   "source": [
    "Perfect, we have all the information we need for Stanley's weights. To retrieve activations, target methods needs to be traced first ; this can be done with the `trace` callback, that requires a given set of inputs for the function."
   ]
  },
  {
   "cell_type": "code",
   "execution_count": 3,
   "metadata": {},
   "outputs": [
    {
     "name": "stdout",
     "output_type": "stream",
     "text": [
      "forward method : \n",
      "--------------  -----------  -----------------------\n",
      "x               placeholder  torch.Size([4, 1, 128])\n",
      "conv_modules_0  call_module  torch.Size([4, 4, 126])\n",
      "conv_modules_1  call_module  torch.Size([4, 8, 124])\n",
      "batch_norm      call_module  torch.Size([4, 8, 124])\n",
      "nnlin           call_module  torch.Size([4, 8, 124])\n",
      "--------------  -----------  -----------------------\n",
      "forward_nobatch method : \n",
      "--------------  -----------  -----------------------\n",
      "x               placeholder  torch.Size([4, 1, 128])\n",
      "conv_modules_0  call_module  torch.Size([4, 4, 126])\n",
      "conv_modules_1  call_module  torch.Size([4, 8, 124])\n",
      "nnlin           call_module  torch.Size([4, 8, 124])\n",
      "--------------  -----------  -----------------------\n"
     ]
    }
   ],
   "source": [
    "# by default, trace traces the forward callback.\n",
    "x = torch.zeros(4, 1, 128)\n",
    "bended.trace(x=x)\n",
    "activation_names = bended.activation_names()\n",
    "activation_shapes = list(map(bended.activation_shape, activation_names))\n",
    "print('forward method : ')\n",
    "bended.print_activations();\n",
    "\n",
    "# as activations are callback dependent, method name may be\n",
    "# given to specify the target : \n",
    "from functools import partial\n",
    "\n",
    "fn = \"forward_nobatch\"\n",
    "bended.trace(fn, x=x)\n",
    "activation_names = bended.activation_names(fn)\n",
    "activation_shapes = list(map(partial(bended.activation_shape, fn=fn), activation_names))\n",
    "print(f'{fn} method : ')\n",
    "bended.print_activations(fn);\n"
   ]
  },
  {
   "cell_type": "markdown",
   "metadata": {},
   "source": [
    "By tracing a given method, `BendedModule` actually decomposes the method as a [torch.fx.Graph](https://pytorch.org/docs/stable/fx.html#torch.fx.Graph), tracking all the operations applied to a given set of inputs. The graph of a function is detached from the value of the module's parameters, such as the union of a graph and a state dict is called a [torch.fx.GraphModule](https://pytorch.org/docs/stable/fx.html#torch.fx.GraphModule). Both can be retrieved directly from `BendedModule` : "
   ]
  },
  {
   "cell_type": "code",
   "execution_count": 4,
   "metadata": {},
   "outputs": [
    {
     "name": "stdout",
     "output_type": "stream",
     "text": [
      "Graph : \n",
      "opcode       name            target          args               kwargs\n",
      "-----------  --------------  --------------  -----------------  --------\n",
      "placeholder  x               x               ()                 {}\n",
      "call_module  conv_modules_0  conv_modules.0  (x,)               {}\n",
      "call_module  conv_modules_1  conv_modules.1  (conv_modules_0,)  {}\n",
      "call_module  batch_norm      batch_norm      (conv_modules_1,)  {}\n",
      "call_module  nnlin           nnlin           (batch_norm,)      {}\n",
      "output       output          output          (nnlin,)           {}\n",
      "\n",
      "Graph : \n",
      "opcode       name            target          args               kwargs\n",
      "-----------  --------------  --------------  -----------------  --------\n",
      "placeholder  x               x               ()                 {}\n",
      "call_module  conv_modules_0  conv_modules.0  (x,)               {}\n",
      "call_module  conv_modules_1  conv_modules.1  (conv_modules_0,)  {}\n",
      "call_module  nnlin           nnlin           (conv_modules_1,)  {}\n",
      "output       output          output          (nnlin,)           {}\n"
     ]
    }
   ],
   "source": [
    "fn = \"forward\"\n",
    "graph = bended.graph(fn)\n",
    "print('Graph : ')\n",
    "graph.print_tabular()\n",
    "fn = \"forward_nobatch\"\n",
    "graph_module = bended.graph_module(fn)\n",
    "print('\\nGraph : ')\n",
    "graph_module.graph.print_tabular()\n"
   ]
  },
  {
   "cell_type": "markdown",
   "metadata": {},
   "source": [
    "Specific activations can be retrieved as a `dict` object using the `get_activations` method : "
   ]
  },
  {
   "cell_type": "code",
   "execution_count": 5,
   "metadata": {},
   "outputs": [
    {
     "name": "stdout",
     "output_type": "stream",
     "text": [
      "{'conv_modules_0': torch.Size([4, 4, 126]), 'nnlin': torch.Size([4, 8, 124])}\n"
     ]
    }
   ],
   "source": [
    "outs = bended.get_activations(\"conv_modules_0\", \"nnlin\",  x=x, fn=\"forward\")\n",
    "print({k: v.shape for k, v in outs.items()})"
   ]
  },
  {
   "cell_type": "markdown",
   "metadata": {},
   "source": [
    "## Bending\n",
    "\n",
    "Here we will see how to bend specific weights and activations. We will here use the `tb.Mask` bending operation, that masks the target feature using a binary mask. Bending operations does not touch the original module and are not made in place, such that every bending operation can be reverted using the `reset` method."
   ]
  },
  {
   "cell_type": "code",
   "execution_count": 6,
   "metadata": {},
   "outputs": [
    {
     "name": "stdout",
     "output_type": "stream",
     "text": [
      "original == bended : tensor(False)\n",
      "original param == bended param : tensor(True)\n",
      "original == reverted : tensor(True)\n"
     ]
    }
   ],
   "source": [
    "out = bended.forward(x)\n",
    "\n",
    "cb = tb.Mask(prob=0.4)\n",
    "bended.bend(cb, \"conv_modules.0.weight\", \"nnlin\")\n",
    "\n",
    "out_bended = bended.forward(x)\n",
    "print(\"original == bended :\", (out == out_bended).all())\n",
    "print(\"original param == bended param :\", (module.conv_modules[0].weight == bended.module.conv_modules[0].weight).all())\n",
    "\n",
    "# revert bending\n",
    "bended.reset()\n",
    "out_reverted = bended.forward(x)\n",
    "print(\"original == reverted :\", (out == out_reverted).all())"
   ]
  },
  {
   "cell_type": "markdown",
   "metadata": {},
   "source": [
    "Ok, the module has been correctly bended! Let's see in details how `BendingModule` bends the original module. The process can be summarized as follows : \n",
    "\n",
    "\n",
    "![bending process](img/bending.png \"Bending process\")\n",
    "\n",
    "Let's now compare item by item the effect of the bending process using several inner methods of `BendingModule` : "
   ]
  },
  {
   "cell_type": "code",
   "execution_count": 7,
   "metadata": {},
   "outputs": [
    {
     "name": "stdout",
     "output_type": "stream",
     "text": [
      "-- original state dict :\n",
      " tensor([[[-0.1613, -0.1353,  0.4003]],\n",
      "\n",
      "        [[ 0.3638, -0.3204, -0.1862]],\n",
      "\n",
      "        [[ 0.3850,  0.4367,  0.3142]],\n",
      "\n",
      "        [[ 0.1633,  0.5569,  0.3013]]])\n",
      "-- bended state dict: \n",
      " tensor([[[-0.1613, -0.0000,  0.4003]],\n",
      "\n",
      "        [[ 0.0000, -0.0000, -0.0000]],\n",
      "\n",
      "        [[ 0.3850,  0.0000,  0.0000]],\n",
      "\n",
      "        [[ 0.0000,  0.5569,  0.0000]]])\n",
      "-- original graph :\n",
      " graph():\n",
      "    %x : [num_users=1] = placeholder[target=x]\n",
      "    %conv_modules_0 : [num_users=1] = call_module[target=conv_modules.0](args = (%x,), kwargs = {})\n",
      "    %conv_modules_1 : [num_users=1] = call_module[target=conv_modules.1](args = (%conv_modules_0,), kwargs = {})\n",
      "    %batch_norm : [num_users=1] = call_module[target=batch_norm](args = (%conv_modules_1,), kwargs = {})\n",
      "    %nnlin : [num_users=1] = call_module[target=nnlin](args = (%batch_norm,), kwargs = {})\n",
      "    return nnlin\n",
      "-- bended graph: \n",
      " graph():\n",
      "    %x : [num_users=1] = placeholder[target=x]\n",
      "    %conv_modules_0 : [num_users=1] = call_module[target=conv_modules.0](args = (%x,), kwargs = {})\n",
      "    %conv_modules_1 : [num_users=1] = call_module[target=conv_modules.1](args = (%conv_modules_0,), kwargs = {})\n",
      "    %batch_norm : [num_users=1] = call_module[target=batch_norm](args = (%conv_modules_1,), kwargs = {})\n",
      "    %nnlin : [num_users=1] = call_module[target=nnlin](args = (%batch_norm,), kwargs = {})\n",
      "    %nnlin_bended : [num_users=1] = call_module[target=nnlin_callback](args = (%nnlin,), kwargs = {name: nnlin})\n",
      "    return nnlin_bended\n",
      "torch.Size([4, 8, 124])\n",
      "torch.Size([4, 8, 124])\n",
      "-- original activation :\n",
      " tensor([0.5785, 0.6995, 0.4535, 0.5870, 0.6065, 0.3875, 0.2446, 0.6948, 0.7557,\n",
      "        0.1898, 0.5261, 0.7544, 0.1237, 0.5679, 0.2186, 0.5680, 0.4710, 0.8551,\n",
      "        0.6428, 0.8398, 0.6404, 0.4717, 0.7431, 0.4733, 0.5539, 0.4179, 0.4121,\n",
      "        0.9491, 0.6243, 0.5836, 0.7009, 0.4323, 0.2647, 0.4530, 0.6243, 0.7147,\n",
      "        0.6815, 0.7575, 0.7351, 0.5603, 0.3141, 0.4986, 0.5076, 0.5511, 0.7850,\n",
      "        0.4708, 0.5794, 0.2900, 0.6230, 0.2153, 0.2297, 0.2273, 0.3885, 0.6069,\n",
      "        0.2490, 0.3902, 0.5703, 0.6024, 0.7234, 0.8441, 0.7028, 0.4017, 0.4893,\n",
      "        0.3457, 0.7085, 0.2874, 0.4256, 0.1420, 0.5609, 0.3745, 0.3215, 0.5996,\n",
      "        0.5416, 0.3967, 0.2842, 0.3814, 0.3421, 0.4490, 0.6207, 0.7084, 0.4709,\n",
      "        0.8160, 0.7998, 0.5250, 0.6887, 0.3541, 0.6459, 0.6224, 0.4482, 0.4152,\n",
      "        0.8707, 0.3260, 0.5437, 0.1963, 0.4611, 0.1005, 0.6055, 0.6660, 0.5843,\n",
      "        0.3421, 0.2245, 0.3268, 0.2019, 0.5863, 0.8224, 0.9230, 0.2416, 0.2802,\n",
      "        0.1263, 0.5634, 0.3491, 0.8560, 0.4616, 0.7440, 0.3618, 0.5199, 0.4942,\n",
      "        0.7012, 0.7697, 0.7812, 0.7246, 0.6958, 0.8648, 0.6015],\n",
      "       grad_fn=<SelectBackward0>)\n",
      "-- bended activation: \n",
      " tensor([0.5785, 0.6995, 0.4535, 0.0000, 0.0000, 0.0000, 0.0000, 0.0000, 0.0000,\n",
      "        0.0000, 0.5261, 0.7544, 0.0000, 0.0000, 0.2186, 0.0000, 0.0000, 0.0000,\n",
      "        0.6428, 0.0000, 0.0000, 0.4717, 0.7431, 0.4733, 0.0000, 0.0000, 0.4121,\n",
      "        0.0000, 0.6243, 0.0000, 0.0000, 0.0000, 0.0000, 0.0000, 0.6243, 0.0000,\n",
      "        0.6815, 0.0000, 0.7351, 0.0000, 0.3141, 0.4986, 0.5076, 0.0000, 0.0000,\n",
      "        0.4708, 0.0000, 0.2900, 0.6230, 0.2153, 0.0000, 0.2273, 0.0000, 0.0000,\n",
      "        0.0000, 0.3902, 0.0000, 0.0000, 0.0000, 0.8441, 0.7028, 0.4017, 0.0000,\n",
      "        0.0000, 0.0000, 0.0000, 0.0000, 0.1420, 0.0000, 0.3745, 0.3215, 0.0000,\n",
      "        0.0000, 0.3967, 0.0000, 0.3814, 0.0000, 0.4490, 0.6207, 0.0000, 0.0000,\n",
      "        0.0000, 0.0000, 0.0000, 0.0000, 0.0000, 0.0000, 0.6224, 0.0000, 0.4152,\n",
      "        0.0000, 0.3260, 0.0000, 0.0000, 0.4611, 0.0000, 0.6055, 0.0000, 0.5843,\n",
      "        0.0000, 0.0000, 0.0000, 0.2019, 0.0000, 0.8224, 0.9230, 0.0000, 0.0000,\n",
      "        0.0000, 0.5634, 0.0000, 0.8560, 0.4616, 0.0000, 0.0000, 0.5199, 0.4942,\n",
      "        0.0000, 0.0000, 0.0000, 0.0000, 0.0000, 0.0000, 0.6015],\n",
      "       grad_fn=<SelectBackward0>)\n"
     ]
    }
   ],
   "source": [
    "cb = tb.Mask(prob=0.4)\n",
    "bended.bend(cb, \"conv_modules.0.weight\", \"nnlin\")\n",
    "\n",
    "original_state_dict = bended.state_dict()\n",
    "bended_state_dict = bended.bended_state_dict()\n",
    "\n",
    "print(\"-- original state dict :\\n\", original_state_dict['conv_modules.0.weight'])\n",
    "print(\"-- bended state dict: \\n\", bended_state_dict['conv_modules.0.weight'])\n",
    "\n",
    "original_graph = bended.graph()\n",
    "bended_graph = bended.bend_graph()\n",
    "\n",
    "print(\"-- original graph :\\n\", original_graph)\n",
    "print(\"-- bended graph: \\n\", bended_graph)\n",
    "\n",
    "x = torch.randn(4, 1, 128)\n",
    "original_activation = bended.get_activations(\"nnlin\", x=x, bended=False)\n",
    "bended_activation = bended.get_activations(\"nnlin\", x=x)\n",
    "print(original_activation['nnlin'].shape)\n",
    "print(bended_activation['nnlin'].shape)\n",
    "print(\"-- original activation :\\n\", original_activation['nnlin'][0, 0])\n",
    "print(\"-- bended activation: \\n\", bended_activation['nnlin'][0, 0])"
   ]
  },
  {
   "cell_type": "markdown",
   "metadata": {},
   "source": [
    "### Common issues with activation bending and shapes\n",
    "\n",
    "Let's see now a critical case of activation bending : shape handling. Indeed, let's try to change the shape of the input, and apply our bending operations : "
   ]
  },
  {
   "cell_type": "code",
   "execution_count": 8,
   "metadata": {},
   "outputs": [
    {
     "name": "stdout",
     "output_type": "stream",
     "text": [
      "The size of tensor a (60) must match the size of tensor b (124) at non-singleton dimension 2\n"
     ]
    }
   ],
   "source": [
    "x = torch.randn(1, 1, 64)\n",
    "try: \n",
    "    out = bended.forward(x)\n",
    "except RuntimeError as e:\n",
    "    print(e)"
   ]
  },
  {
   "cell_type": "markdown",
   "metadata": {},
   "source": [
    "This happens because, during tracing, activation `nnlin` has been recorded to have shape `torch.Size([4, 8, 124])`. Hence, the `Mask` callback has been initialiazed with a similar shape, causing a `RuntimeError` during multiplication. To make this bending shape independant on last dimension, we can only mask the channel dimension : "
   ]
  },
  {
   "cell_type": "code",
   "execution_count": 9,
   "metadata": {},
   "outputs": [],
   "source": [
    "bended.reset()\n",
    "bended.bend(tb.Mask(prob=0.3, dim=-2), \"nnlin\")\n",
    "\n",
    "x = torch.randn(1, 1, 64)\n",
    "out = bended.forward(x)"
   ]
  },
  {
   "cell_type": "markdown",
   "metadata": {},
   "source": [
    "Activation bending is indeed allowed by our improved tracer, that records shapes of activations during graph tracing. This extension asks, in exchange, to be precautionary on how you bend the graph to be sure that no improper bending operations are applied during the execution process. For more information of this, jump to the next tutorial!"
   ]
  },
  {
   "cell_type": "markdown",
   "metadata": {},
   "source": [
    "## Monitoring bending operations with `BendingConfig`\n",
    "\n",
    "Bending operations of a `BendingModule` can be objectified using the `BendingConfig` object, that can also be used for bending, pickling, and monitoring bending operations."
   ]
  },
  {
   "cell_type": "code",
   "execution_count": 10,
   "metadata": {},
   "outputs": [
    {
     "name": "stdout",
     "output_type": "stream",
     "text": [
      "BendingConfig(\n",
      "module = Stanley(id = 5501192016)\n",
      "\tMask(prob=0.400): ['conv_modules.0.weight', 'nnlin']\n",
      "\tMask(prob=0.600): ['conv_modules.0.weight', 'conv_modules.1.weight']\n",
      ")\n",
      "bending config :  BendingConfig(\n",
      "module = Stanley(id = 5501192016)\n",
      "\tMask(prob=0.400): ['conv_modules.0.weight', 'nnlin']\n",
      "\tMask(prob=0.600): ['conv_modules.0.weight', 'conv_modules.1.weight']\n",
      ")\n",
      "operations for key conv_modules.0.weight: [Mask(prob=0.400), Mask(prob=0.600)]\n",
      "loaded config :  BendingConfig(\n",
      "module = Stanley(id = 5501192016)\n",
      "\tMask(prob=0.400): ['conv_modules.0.weight', 'nnlin']\n",
      "\tMask(prob=0.600): ['conv_modules.0.weight', 'conv_modules.1.weight']\n",
      ")\n"
     ]
    },
    {
     "name": "stderr",
     "output_type": "stream",
     "text": [
      "/Users/domkirke/miniconda3/envs/ml2/lib/python3.11/site-packages/torch/storage.py:414: FutureWarning: You are using `torch.load` with `weights_only=False` (the current default value), which uses the default pickle module implicitly. It is possible to construct malicious pickle data which will execute arbitrary code during unpickling (See https://github.com/pytorch/pytorch/blob/main/SECURITY.md#untrusted-models for more details). In a future release, the default value for `weights_only` will be flipped to `True`. This limits the functions that could be executed during unpickling. Arbitrary objects will no longer be allowed to be loaded via this mode unless they are explicitly allowlisted by the user via `torch.serialization.add_safe_globals`. We recommend you start setting `weights_only=True` for any use case where you don't have full control of the loaded file. Please open an issue on GitHub for any issues related to this experimental feature.\n",
      "  return torch.load(io.BytesIO(b))\n"
     ]
    }
   ],
   "source": [
    "module = Stanley()\n",
    "bended = tb.BendedModule(module)\n",
    "bended.trace(x=torch.randn(1, 1, 1024))\n",
    "\n",
    "bended.bend(tb.Mask(prob=0.4), \"conv_modules.0.weight\", \"nnlin\")\n",
    "bended.bend(tb.Mask(prob=0.6), \"conv_modules.0.weight\", \"conv_modules.1.weight\")\n",
    "\n",
    "bending_config = bended.bending_config();\n",
    "print(\"bending config : \", bending_config)\n",
    "key = \"conv_modules.0.weight\"\n",
    "print(f\"operations for key {key}:\", bending_config.op_from_key(key))\n",
    "\n",
    "bending_config.save('test.tb')\n",
    "bending_config = tb.BendingConfig.load('test.tb', module=bended)\n",
    "print(\"loaded config : \", bending_config)"
   ]
  },
  {
   "cell_type": "markdown",
   "metadata": {},
   "source": [
    "`BendingConfig` may be created out of the blue, or bounded to a given `BendedModule` for automatic key resolution. They can also be added or compared together :"
   ]
  },
  {
   "cell_type": "code",
   "execution_count": 11,
   "metadata": {},
   "outputs": [
    {
     "name": "stdout",
     "output_type": "stream",
     "text": [
      "Before binding : \n",
      "config1 : BendingConfig(\n",
      "\t(Mask(prob=0.800), 'conv_modules.\\\\d.weight')\n",
      "\t(Mask(prob=0.800), 'nnlin')\n",
      ")\n",
      "config2 : BendingConfig(\n",
      "\t(Mask(prob=0.800), 'conv_modules.\\\\d.weight')\n",
      "\t(Mask(prob=0.800), 'nnlin')\n",
      ")\n",
      "True\n",
      "\n",
      "After binding : \n",
      "config1 : BendingConfig(\n",
      "module = Stanley(id = 5501192016)\n",
      "\tMask(prob=0.800): ['conv_modules.0.weight', 'conv_modules.1.weight', 'nnlin']\n",
      ")\n",
      "config2 : BendingConfig(\n",
      "module = Stanley(id = 5501192016)\n",
      "\tMask(prob=0.800): ['conv_modules.0.weight', 'conv_modules.1.weight', 'nnlin']\n",
      ")\n",
      "BendingConfig(\n",
      "module = Stanley(id = 5501192016)\n",
      "\tMask(prob=0.800): ['conv_modules.0.weight', 'conv_modules.1.weight', 'nnlin']\n",
      ")\n",
      "\n",
      "Comparison : \n",
      "True\n"
     ]
    }
   ],
   "source": [
    "cb1 = tb.Mask(0.8)\n",
    "config1 = tb.BendingConfig(\n",
    "    (cb1, \"conv_modules.\\d.weight\"),\n",
    "    (cb1, \"nnlin\")\n",
    ")\n",
    "config2 = tb.BendingConfig((cb1, \"conv_modules.\\d.weight\")) + tb.BendingConfig((cb1, \"nnlin\"))\n",
    "\n",
    "print('Before binding : ')\n",
    "print(\"config1 :\", config1)\n",
    "print(\"config2 :\", config2)\n",
    "print(config1 == config2)\n",
    "\n",
    "config1.bind(bended)\n",
    "config2.bind(bended)\n",
    "\n",
    "print('\\nAfter binding : ')\n",
    "print(\"config1 :\", config1)\n",
    "print(\"config2 :\", config2)\n",
    "\n",
    "bended.reset()\n",
    "bended.bend(config1)\n",
    "module_config = bended.bending_config()\n",
    "print('\\nComparison : ')\n",
    "print(config1 == module_config)"
   ]
  },
  {
   "cell_type": "markdown",
   "metadata": {},
   "source": [
    "## Versions and interpolation\n",
    "\n",
    "`BendedModule` also allows you to create several versions of the original module, and to interpolate between them in a smooth manner. Though, beware that this only works with weight bending as smooth interpolation between graphs does not really make sense! "
   ]
  },
  {
   "cell_type": "code",
   "execution_count": 12,
   "metadata": {},
   "outputs": [
    {
     "name": "stdout",
     "output_type": "stream",
     "text": [
      "default version :  _default\n",
      "current version :  bended\n",
      "current version :  _default\n",
      "original == bended :  tensor(False)\n",
      "original == interpolated :  tensor(False)\n",
      "bended == interpolated :  tensor(False)\n"
     ]
    }
   ],
   "source": [
    "module = Stanley()\n",
    "bended = tb.BendedModule(module)\n",
    "\n",
    "x = torch.randn(1, 1, 128)\n",
    "out_unbended = bended(x)\n",
    "\n",
    "print(\"default version : \", bended.version)\n",
    "bended.bend(tb.Mask(prob=0.3), \"conv_modules.0.weight\")\n",
    "bended.write(\"bended\")\n",
    "print(\"current version : \", bended.version)\n",
    "\n",
    "# revert to default\n",
    "bended.version = None\n",
    "print('current version : ', bended.version)\n",
    "\n",
    "with bended.set_version():\n",
    "    out_original = bended(x)\n",
    "with bended.set_version(\"bended\"):\n",
    "    out_bended = bended(x)\n",
    "\n",
    "# arguments of bended.interpolate has an optional positional argument\n",
    "# for default configuration weight, plus keyword arguments for every additional\n",
    "# config weights. \n",
    "with bended.interpolate(1., bended=1.):\n",
    "    out_interpolated = bended(x)\n",
    "\n",
    "print(\"original == bended : \", (out_original == out_bended).all())\n",
    "print(\"original == interpolated : \", (out_original == out_interpolated).all())\n",
    "print(\"bended == interpolated : \", (out_bended == out_interpolated).all())"
   ]
  },
  {
   "cell_type": "markdown",
   "metadata": {},
   "source": [
    "You can also load another version of the same module, provided that their state dict is the same, and interpolate between them with the `interpolate` context manager."
   ]
  },
  {
   "cell_type": "code",
   "execution_count": 13,
   "metadata": {},
   "outputs": [
    {
     "name": "stdout",
     "output_type": "stream",
     "text": [
      "original == imported :  tensor(False)\n",
      "original == interpolated :  tensor(False)\n",
      "imported == interpolated :  tensor(False)\n",
      "given state dict has different keys ; you can bypass this warning by setting strict=False, at your own risk\n"
     ]
    }
   ],
   "source": [
    "module = Stanley()\n",
    "module2 = Stanley()\n",
    "bended = tb.BendedModule(module)\n",
    "bended.create_version(\"imported\", module2)\n",
    "\n",
    "x = torch.randn(1, 1, 128)\n",
    "with bended.set_version():\n",
    "    out_original = bended(x)\n",
    "with bended.set_version(\"imported\"):\n",
    "    out_imported = bended(x)\n",
    "with bended.interpolate(1., imported=1.):\n",
    "    out_interpolated = bended(x)\n",
    "\n",
    "print(\"original == imported : \", (out_original == out_imported).all())\n",
    "print(\"original == interpolated : \", (out_original == out_interpolated).all())\n",
    "print(\"imported == interpolated : \", (out_imported == out_interpolated).all())\n",
    "\n",
    "class Doppleganger(nn.Module):\n",
    "    pass\n",
    "\n",
    "try: \n",
    "    bended.create_version(\"imported\", Doppleganger())\n",
    "except tb.BendingError as e: \n",
    "    print(e)"
   ]
  }
 ],
 "metadata": {
  "kernelspec": {
   "display_name": "ml2",
   "language": "python",
   "name": "python3"
  },
  "language_info": {
   "codemirror_mode": {
    "name": "ipython",
    "version": 3
   },
   "file_extension": ".py",
   "mimetype": "text/x-python",
   "name": "python",
   "nbconvert_exporter": "python",
   "pygments_lexer": "ipython3",
   "version": "3.11.7"
  }
 },
 "nbformat": 4,
 "nbformat_minor": 2
}
