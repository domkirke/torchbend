{
 "cells": [
  {
   "cell_type": "markdown",
   "metadata": {},
   "source": [
    "# Bended modules \n",
    "\n",
    "At the very base of the `torchbend` modules lies the `BendedModule`, a wrapper for `torch.nn.Module` that uses the `torchbend` improved tracer to provide a handy interface for weight bending, interpolation, and activation retrieval / and bending. "
   ]
  },
  {
   "cell_type": "markdown",
   "metadata": {},
   "source": [
    "## BendedModule and evolved tracing.\n",
    "\n",
    "Let's see how to bend this simple module : "
   ]
  },
  {
   "cell_type": "code",
   "execution_count": null,
   "metadata": {},
   "outputs": [],
   "source": [
    "import torch, torch.nn as nn\n",
    "import torchbend as tb\n",
    "\n",
    "class Stanley(nn.Module):\n",
    "    def __init__(self):\n",
    "        self.conv_modules = nn.Sequential(\n",
    "            nn.Conv1d(1, 4), \n",
    "            nn.Conv1d(4, 8)\n",
    "        )\n",
    "        self.batch_norm = nn.BatchNorm1d(8)\n",
    "        self.nnlin = nn.Sigmoid()\n",
    "    \n",
    "    def forward(self, x):\n",
    "        out = self.conv_modules(x)\n",
    "        out = self.batch_norm(out)\n",
    "        out = self.nnlin(out)\n",
    "        return out\n",
    "\n",
    "    def forward_nobatch(self, x):\n",
    "        out = self.conv_modules(x)\n",
    "        out = self.nnlin(out)\n",
    "        return out\n",
    "\n",
    "module = Stanley()"
   ]
  },
  {
   "cell_type": "code",
   "execution_count": null,
   "metadata": {},
   "outputs": [],
   "source": [
    "\n"
   ]
  }
 ],
 "metadata": {
  "language_info": {
   "name": "python"
  }
 },
 "nbformat": 4,
 "nbformat_minor": 2
}
