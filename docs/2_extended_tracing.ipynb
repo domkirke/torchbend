{
 "cells": [
  {
   "cell_type": "markdown",
   "metadata": {},
   "source": [
    "# Extended tracing\n",
    "\n",
    "Let's take this weird `nn.Module`, which is totally useless besides demonstrating how `torchbend`'s tracer extends the original `torch.fx`'s one and experiment tracing and bending."
   ]
  },
  {
   "cell_type": "code",
   "execution_count": null,
   "metadata": {},
   "outputs": [],
   "source": [
    "import torch, torch.nn as nn\n",
    "import torchbend as tb\n",
    "\n",
    "class Doug(nn.Module):\n",
    "    def __init__(self):\n",
    "        self.conv_module = nn.Conv1d(1, 16)\n",
    "        self.batch_norm = nn.BatchNorm1d(16)\n",
    "        \n",
    "    def forward(self, x: torch.Tensor):\n",
    "        if x.shape[1] > 1: \n",
    "            return torch.cat([self.forward(x[:, [i]]) for i in range(x.shape[1])], -1)\n",
    "        else:\n",
    "            outs = []\n",
    "            for i in range(x.shape[0]):\n",
    "                out_tmp = self.conv_module(x[[i]])\n",
    "                out_tmp = self.batch_norm(out_tmp)\n",
    "                outs.append(out_tmp)\n",
    "            return sum(outs)"
   ]
  }
 ],
 "metadata": {
  "language_info": {
   "name": "python"
  }
 },
 "nbformat": 4,
 "nbformat_minor": 2
}
