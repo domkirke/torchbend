{
 "cells": [
  {
   "cell_type": "markdown",
   "metadata": {},
   "source": [
    "# Controls and scripting\n",
    "\n",
    "In this notebook we will see a powerful way of modifying dynamically `BendingCallback` parameters with `BendingParameter`, that automatically handles export while scripting a model (typically for a use in [nn~](https://github.com/acids-ircam/nn_tilde))."
   ]
  },
  {
   "cell_type": "markdown",
   "metadata": {},
   "source": [
    "## Callbacks and Parameters\n",
    "\n",
    "Every bending operations in `torchbend` are objects inheriting from `BendingCallback`, being itself a `nn.Module`. This way, the callback can record buffers and various attributes required for its insertion into a model scripted through `torch.jit`. For this reason, `BendingParameter` can be used to dynamically modify the parameters of one or several callbacks and perform basic arithmetics : "
   ]
  },
  {
   "cell_type": "code",
   "execution_count": 1,
   "metadata": {},
   "outputs": [
    {
     "name": "stdout",
     "output_type": "stream",
     "text": [
      "-- Original output : \n",
      " tensor([[[0.1299, 0.1299, 0.1299, 0.1299, 0.1299, 0.1299, 0.1299, 0.1299,\n",
      "          0.1299, 0.1299, 0.1299, 0.1299]]], grad_fn=<ConvolutionBackward0>)\n",
      "{'macro1': BendingParameter(name=macro1, value=Parameter containing:\n",
      "tensor(1.))}\n",
      "-- output with c1 = -0.5 : \n",
      " tensor([[-0.0649, -0.0649, -0.0649, -0.0649, -0.0649, -0.0649, -0.0649, -0.0649,\n",
      "         -0.0649, -0.0649, -0.0649, -0.0649]], grad_fn=<SelectBackward0>)\n",
      "-- output with c1 = 0.0 : \n",
      " tensor([[0., 0., 0., 0., 0., 0., 0., 0., 0., 0., 0., 0.]],\n",
      "       grad_fn=<SelectBackward0>)\n",
      "-- output with c1 = 1.0 : \n",
      " tensor([[0.1299, 0.1299, 0.1299, 0.1299, 0.1299, 0.1299, 0.1299, 0.1299, 0.1299,\n",
      "         0.1299, 0.1299, 0.1299]], grad_fn=<SelectBackward0>)\n",
      "-- output with c1 = 2.0 : \n",
      " tensor([[0.2597, 0.2597, 0.2597, 0.2597, 0.2597, 0.2597, 0.2597, 0.2597, 0.2597,\n",
      "         0.2597, 0.2597, 0.2597]], grad_fn=<SelectBackward0>)\n"
     ]
    }
   ],
   "source": [
    "import torch, torch.nn as nn\n",
    "import sys; sys.path.append(\"..\")\n",
    "import torchbend as tb\n",
    "\n",
    "class Greg(nn.Module):\n",
    "    def __init__(self):\n",
    "        super().__init__()\n",
    "        self.conv_module_1 = nn.Conv1d(1, 4, 3)\n",
    "        self.conv_module_2 = nn.Conv1d(4, 1, 3)\n",
    "    def forward(self, x):\n",
    "        out_1 = self.conv_module_1(x)\n",
    "        out_2 = self.conv_module_2(out_1)\n",
    "        return out_2\n",
    "\n",
    "module = Greg()\n",
    "bended = tb.BendedModule(module)\n",
    "x = torch.zeros(1, 1, 16)\n",
    "graph, out = bended.trace(x=x, _return_out=True)\n",
    "print('-- Original output : \\n', out[0])\n",
    "\n",
    "# initialize bending paramteer with a name and a value\n",
    "c1 = tb.BendingParameter(\"macro1\", value=1.)\n",
    "bended.bend(tb.Scale(1. * c1), \"conv_module_1$\")\n",
    "bended.bend(tb.Scale(2. * c1), \"conv_module_2$\")\n",
    "\n",
    "print(bended.controllables)\n",
    "\n",
    "for i in [-0.5, 0., 1., 2.]:\n",
    "    bended.update(c1.name, i)\n",
    "    out = bended(x)\n",
    "    print(f'-- output with c1 = {i} : \\n', out[0]) \n",
    "\n",
    "\n"
   ]
  },
  {
   "cell_type": "markdown",
   "metadata": {},
   "source": [
    "Thus, `BendingParameter` allows to define somehow \"macros\" on our bending operations. Besides being useful, we will see below how `BendingParameter` also significantly eases bending operations during scripting. "
   ]
  },
  {
   "cell_type": "markdown",
   "metadata": {},
   "source": [
    "## Scripting\n",
    "\n",
    "`BendedModule` can also leverage the `torch.fx.GraphModule` structure to perform automatic scripting of bended modules, provided that the target functions can be scripted. Automatic scripting is processed as follows :\n",
    "\n",
    "![scripting process](img/scripting.png \"Scripting process\")\n",
    "\n",
    "Automatic `BendingParameter` setter and getters are also added to the final `ScriptedBendedModule`, allowing to modify the values of the macros after scripting."
   ]
  },
  {
   "cell_type": "code",
   "execution_count": 5,
   "metadata": {},
   "outputs": [
    {
     "name": "stdout",
     "output_type": "stream",
     "text": [
      "tensor([[[0.0423, 0.0423, 0.0423, 0.0423, 0.0423, 0.0423, 0.0423, 0.0423,\n",
      "          0.0423, 0.0423, 0.0423, 0.0423]]], grad_fn=<MulBackward0>)\n",
      "tensor([[[0., 0., 0., 0., 0., 0., 0., 0., 0., 0., 0., 0.]]],\n",
      "       grad_fn=<MulBackward0>)\n",
      "setting failed :  The following operation failed in the TorchScript interpreter.\n",
      "Traceback of TorchScript (most recent call last):\n",
      "  File \"/Users/domkirke/Dropbox/code/torchbend/docs/../torchbend/tracing/script.py\", line 166, in set_macro1\n",
      "        for v in self._controllables:\n",
      "            if v.name == name:\n",
      "                v.set_value(value)\n",
      "                ~~~~~~~~~~~ <--- HERE\n",
      "        self._update_weights(name)\n",
      "        return 0\n",
      "  File \"/Users/domkirke/Dropbox/code/torchbend/docs/../torchbend/bending/parameter.py\", line 147, in set_value\n",
      "            if self.min_clamp is not None:\n",
      "                if value < self.min_clamp:\n",
      "                    raise BendingParameterException(f'tried to set value < min_clamp = {self.min_clamp}, but got {value}')\n",
      "                    ~~~~~~~~~~~~~~~~~~~~~~~~~~~~~~~~~~~~~~~~~~~~~~~~~~~~~~~~~~~~~~~~~~~~~~~~~~~~~~~~~~~~~~~~~~~~~~~~~~~ <--- HERE\n",
      "            if self.max_clamp is not None:\n",
      "                if value > self.max_clamp:\n",
      "torchbend.bending.parameter.BendingParameterException: tried to set value < min_clamp = -1., but got -3\n",
      "[ CPUFloatType{} ]\n",
      "\n"
     ]
    }
   ],
   "source": [
    "class Greg(nn.Module):\n",
    "    def __init__(self):\n",
    "        super().__init__()\n",
    "        self.conv_module_1 = nn.Conv1d(1, 4, 3)\n",
    "        self.conv_module_2 = nn.Conv1d(4, 1, 3)\n",
    "    def forward(self, x):\n",
    "        out_1 = self.conv_module_1(x)\n",
    "        out_2 = self.conv_module_2(out_1)\n",
    "        return out_2\n",
    "    @torch.jit.export\n",
    "    def half_forward(self, x):\n",
    "        out_1 = self.conv_module_1(x)\n",
    "        return out_1\n",
    "\n",
    "module = Greg()\n",
    "bended = tb.BendedModule(module)\n",
    "\n",
    "x = torch.zeros(1, 1, 16)\n",
    "bended.trace(x=x, _return_out=True)\n",
    "# a range argument can be added to constrain value to a certain range\n",
    "c1 = tb.BendingParameter(\"macro1\", value=1., range=[-1., 1.])\n",
    "bended.bend(tb.Scale(1. * c1), \"conv_module_1$\")\n",
    "bended.bend(tb.Scale(2. * c1), \"conv_module_2$\")\n",
    "\n",
    "scripted = bended.script()\n",
    "out = scripted(x)\n",
    "print(out)\n",
    "scripted.set_macro1(0.)\n",
    "out = scripted(x)\n",
    "print(out)\n",
    "try:\n",
    "    scripted.set_macro1(-3.)\n",
    "except Exception as e:\n",
    "    # an error is issued by the torchscript interpreted if the value is outside the range\n",
    "    print(\"setting failed : \", e)"
   ]
  },
  {
   "cell_type": "markdown",
   "metadata": {},
   "source": [
    "`Be"
   ]
  }
 ],
 "metadata": {
  "kernelspec": {
   "display_name": "ml2",
   "language": "python",
   "name": "python3"
  },
  "language_info": {
   "codemirror_mode": {
    "name": "ipython",
    "version": 3
   },
   "file_extension": ".py",
   "mimetype": "text/x-python",
   "name": "python",
   "nbconvert_exporter": "python",
   "pygments_lexer": "ipython3",
   "version": "3.11.7"
  }
 },
 "nbformat": 4,
 "nbformat_minor": 2
}
